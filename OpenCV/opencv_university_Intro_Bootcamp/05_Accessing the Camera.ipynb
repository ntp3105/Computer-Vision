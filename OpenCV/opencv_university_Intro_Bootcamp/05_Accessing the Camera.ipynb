{
 "cells": [
  {
   "cell_type": "markdown",
   "metadata": {},
   "source": [
    "This notebook describes a simple code on how to access the camera attached to the computer system and send that streaming video to an output window on the display.\n",
    "First import the OpenCV and the systems module both of which are required below. Then specify a default camera device index of zero. Then simply check to see if there was a command line specification to override that default value but in this case, just going to use zero.\n",
    "\n",
    "Then call the video capture class to create a video capture object and we pass in device index into that class. Device index of zero will access the default camera on your system. If you had more than one camera attached to your system then you would need to indicate a device index that points to the correct one. So zero would be the default, one would be the second camera, two would be the third camera and so forth.\n",
    "\n",
    "Then create a named window which we're going to eventually send the streamed output to and create a while loop. This while loop is going to allow us to continuously stream video from the camera and send it to the output unless the user hits the Escape key. So that's what this wait key function does, it continuously checks whether or not the users hit the Escape key. The first line in this Loop uses that video capture object source to call the read method in that class and that read method will return a single frame from the video stream as well as a logical variable has underscore frame. If there's any kind of a problem with reading the video stream or accessing the camera then has frame would be false and we would break from the loop. Otherwise we'd continue on and call the \"imshow\" function in OpenCV to actually send the video frame to the output window.\n",
    "\n",
    "So that's all there is to it, there's not much code we just wanted to walk through that and give an example of how to do this. So let's go ahead and execute it. And there it is, here's the window streaming video from my web camera right to the display. As soon as I hit the Escape key this is going to exit. That's all.\n"
   ]
  },
  {
   "cell_type": "code",
   "execution_count": null,
   "metadata": {},
   "outputs": [],
   "source": [
    "import cv2\n",
    "import sys\n",
    "\n",
    "s = 0\n",
    "if len(sys.argv) > 1:\n",
    "    s = sys.argv[1]\n",
    "\n",
    "source = cv2.VideoCapture(s)\n",
    "\n",
    "win_name = 'Camera Preview'\n",
    "cv2.namedWindow(win_name, cv2.WINDOW_NORMAL)\n",
    "\n",
    "while cv2.waitKey(1) != 27:  # Escape\n",
    "    has_frame, frame = source.read()\n",
    "    if not has_frame:\n",
    "        break\n",
    "    cv2.imshow(win_name, frame)\n",
    "\n",
    "source.release()\n",
    "cv2.destroyWindow(win_name)"
   ]
  },
  {
   "cell_type": "markdown",
   "metadata": {},
   "source": [
    "It is a simple Python script using OpenCV to display camera preview. This script initializes a video capture object from the camera specified by the command line argument (or the default camera if no argument is provided), creates a window to display the camera preview, and continuously reads frames from the camera and displays them in the window until the Escape key (ASCII code 27) is pressed.\n"
   ]
  },
  {
   "cell_type": "markdown",
   "metadata": {},
   "source": [
    "The following code snippet initializes the variable `s` to 0 and then checks if there are command-line arguments provided using `sys.argv`.\n",
    "\n",
    "- If there are command-line arguments (`len(sys.argv) > 1`), it assigns the value of the first argument (`sys.argv[1]`) to `s`.\n",
    "- Otherwise, `s` remains 0.\n",
    "\n",
    "```python\n",
    "s = 0\n",
    "if len(sys.argv) > 1:\n",
    "    s = sys.argv[1]\n",
    "```\n",
    "\n",
    "In summary, this code sets the value of `s` based on command-line arguments, if any, with a default value of 0 if no arguments are provided.\n"
   ]
  },
  {
   "cell_type": "markdown",
   "metadata": {},
   "source": [
    "In this line of code, `cv2.VideoCapture(s)`, you're using the OpenCV library to create a `VideoCapture` object. This object is used to capture video frames from a camera or a video file.\n",
    "\n",
    "The argument `s` passed to `cv2.VideoCapture()` specifies the source of the video input. Depending on the value of `s`, the `VideoCapture` object will either capture frames from a camera device or from a video file.\n",
    "\n",
    "- If `s` is an integer (e.g., `0`), it represents the index of the camera device to be used for capturing frames. For example, `0` typically represents the default camera device.\n",
    "- If `s` is a string (e.g., `\"video.mp4\"`), it represents the path to a video file from which frames will be captured.\n",
    "\n",
    "So, depending on the value of `s`, the `VideoCapture` object will initialize the appropriate video source for capturing frames.\n"
   ]
  },
  {
   "cell_type": "markdown",
   "metadata": {},
   "source": [
    "The lines `source.release()` and `cv2.destroyWindow(win_name)` are used to release the video capture object and destroy the OpenCV window, respectively, after you're done using them.\n",
    "\n",
    "`source.release()` releases the video capture object, freeing up any resources associated with it, such as the camera device.\n",
    "\n",
    "`cv2.destroyWindow(win_name)` destroys the OpenCV window with the specified window name (`win_name`), removing it from the screen and freeing up any resources associated with it.\n",
    "\n",
    "These cleanup steps are important to ensure that resources are properly released and the program exits gracefully.\n"
   ]
  }
 ],
 "metadata": {
  "language_info": {
   "name": "python"
  }
 },
 "nbformat": 4,
 "nbformat_minor": 2
}
